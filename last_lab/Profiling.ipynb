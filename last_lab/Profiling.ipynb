{
 "cells": [
  {
   "cell_type": "markdown",
   "metadata": {},
   "source": [
    "# Data Dimensionality\n",
    "As for tabular data, the first thing to understand is the data dimensionality. In the case of a single time series, it's simple - we are in the presence of one single dimension. But usually, in this context, dimensionality corresponds to the number of observations taken, which corresponds to the length of the series.\n",
    "So after loading the data, the usual procedure is to plot the data at the most atomic granularity to look for regularities (repetitions) in the data."
   ]
  },
  {
   "cell_type": "code",
   "execution_count": null,
   "metadata": {},
   "outputs": [],
   "source": [
    "import pandas as pd\n",
    "import matplotlib.pyplot as plt\n",
    "import ts_functions as ts\n",
    "\n",
    "data = pd.read_csv('data/ashrae_single.csv', index_col='timestamp', sep=',', decimal='.',\n",
    "                   parse_dates=True, infer_datetime_format=True)\n",
    "print(\"Nr. Records = \", data.shape[0])\n",
    "print(\"First timestamp\", data.index[0])\n",
    "print(\"Last timestamp\", data.index[-1])\n",
    "plt.figure(figsize=(3*ts.HEIGHT, ts.HEIGHT))\n",
    "ts.plot_series(data, x_label='timestamp', y_label='consumption', title='ASHRAE')\n",
    "plt.xticks(rotation = 45)\n",
    "plt.show()"
   ]
  }
 ],
 "metadata": {
  "kernelspec": {
   "display_name": "Python 3",
   "language": "python",
   "name": "python3"
  },
  "language_info": {
   "codemirror_mode": {
    "name": "ipython",
    "version": 3
   },
   "file_extension": ".py",
   "mimetype": "text/x-python",
   "name": "python",
   "nbconvert_exporter": "python",
   "pygments_lexer": "ipython3",
   "version": "3.8.5"
  }
 },
 "nbformat": 4,
 "nbformat_minor": 4
}
