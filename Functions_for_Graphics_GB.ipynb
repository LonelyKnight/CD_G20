{
 "cells": [
  {
   "cell_type": "markdown",
   "metadata": {},
   "source": [
    "# got tired of restarting the kernel so I'm doing these here"
   ]
  },
  {
   "cell_type": "code",
   "execution_count": 1,
   "metadata": {
    "ExecuteTime": {
     "end_time": "2020-12-04T19:56:27.304915Z",
     "start_time": "2020-12-04T19:56:25.352127Z"
    }
   },
   "outputs": [],
   "source": [
    "import numpy as np\n",
    "import pandas as pd\n",
    "import matplotlib.pyplot as plt\n",
    "from sklearn.model_selection import train_test_split, StratifiedKFold\n",
    "import sklearn.metrics as metrics\n",
    "from sklearn.tree import DecisionTreeClassifier\n",
    "import ds_functions as ds\n",
    "from sklearn.tree import export_graphviz\n",
    "import pydot\n",
    "import g20_functions as g20"
   ]
  },
  {
   "cell_type": "code",
   "execution_count": 1,
   "metadata": {},
   "outputs": [],
   "source": [
    "def get_values_GB(data_dict,depth,features):\n",
    "    # set max_depths and max_feature to fixed\n",
    "    # loss is diff graphs\n",
    "    # get lr as series, accuracy as y and estimators as x\n",
    "    output = {}\n",
    "    for loss, d1 in data_dict.items():\n",
    "        output[loss] = {}\n",
    "        output[loss][\"train\"] = {}\n",
    "        output[loss][\"test\"] = {}\n",
    "        d2 = d1[depth]\n",
    "        for lr, d3 in d2.items():\n",
    "            for est, d4 in d3.items():\n",
    "                tt = d4[features]\n",
    "                if lr not in output[loss][\"train\"]:\n",
    "                    output[loss][\"train\"][lr] = []\n",
    "                if lr not in output[loss][\"test\"]:\n",
    "                    output[loss][\"test\"][lr] = []\n",
    "                output[loss][\"train\"][lr].append(tt[\"train\"])\n",
    "                output[loss][\"test\"][lr].append(tt[\"test\"])\n",
    "    return output"
   ]
  },
  {
   "cell_type": "code",
   "execution_count": 2,
   "metadata": {},
   "outputs": [],
   "source": [
    "def plot_GB_ho(data_dict,depth,features):\n",
    "    output = get_values_GB(data_dict,depth,features)\n",
    "        \n",
    "    losses=['deviance', 'exponential']  # exponential == AdaBoost\n",
    "#    learn_rates=[0.01, 0.1, 0.3, 0.5, 1]\n",
    "    n_estimators=[10, 50, 100, 200, 300]\n",
    "#    max_depths=[5, 10, 25]\n",
    "#    max_features=[.25, 0.5, 0.75, 1]\n",
    "    \n",
    "    # plot performance\n",
    "    plt.figure()\n",
    "    fig, axs = plt.subplots(1, 2, figsize=(10, 2), squeeze=False)\n",
    "    for i in range(len(losses)):\n",
    "        c = losses[i]\n",
    "        ds.multiple_line_chart(n_estimators, output[c][\"test\"], ax=axs[0, i],\n",
    "                               title='Gradient Boosting for Toxic with {} loss'.format(c),\n",
    "                               xlabel='estimators', ylabel='test accuracy',\n",
    "                               percentage=True)\n",
    "    plt.show()\n",
    "    \n",
    "    # plot overfitting\n",
    "    plt.figure()\n",
    "    fig, axs = plt.subplots(1, 2, figsize=(10, 2), squeeze=False)\n",
    "    for i in range(len(losses)):\n",
    "        c = losses[i]\n",
    "        ds.multiple_line_chart(n_estimators, output[c][\"train\"], ax=axs[0, i],\n",
    "                               title='Gradient Boosting for Toxic with {} loss'.format(c),\n",
    "                               xlabel='estimators', ylabel='train accuracy',\n",
    "                               percentage=True)\n",
    "    plt.show()"
   ]
  },
  {
   "cell_type": "code",
   "execution_count": 4,
   "metadata": {},
   "outputs": [],
   "source": [
    "def get_avg_std_GB(folds,depth,features):\n",
    "    # set max_depths and max_feature to fixed\n",
    "    # loss is diff graphs\n",
    "    # get lr as series, accuracy as y and estimators as x    \n",
    "    output = {}\n",
    "    avg = {}\n",
    "    interval = {}\n",
    "    \n",
    "    n_splits = len(folds)\n",
    "    for loss, d1 in folds[0].items():\n",
    "        avg[loss] = {}\n",
    "        interval[loss] = {}\n",
    "        output[loss] = {}\n",
    "        avg[loss][\"train\"] = {}\n",
    "        avg[loss][\"test\"] = {}\n",
    "        interval[loss][\"train\"] = {}\n",
    "        interval[loss][\"test\"] = {}\n",
    "        output[loss][\"train\"] = {}\n",
    "        output[loss][\"test\"] = {}\n",
    "        d2 = d1[depth]\n",
    "        for lr, d3 in d2.items():\n",
    "            output[loss][\"train\"][lr] = {}\n",
    "            output[loss][\"test\"][lr] = {}\n",
    "            interval[loss][\"train\"][lr] = []\n",
    "            interval[loss][\"test\"][lr] = []\n",
    "            avg[loss][\"train\"][lr] = []\n",
    "            avg[loss][\"test\"][lr] = []\n",
    "            for est in d3:\n",
    "                output[loss][\"train\"][lr][est] = np.empty(n_splits, dtype=dict)\n",
    "                output[loss][\"test\"][lr][est] = np.empty(n_splits, dtype=dict)\n",
    "    i = 0\n",
    "    for data_dict in folds:\n",
    "        for loss, d1 in data_dict.items():\n",
    "            d2 = d1[depth]\n",
    "            for lr, d3 in d2.items():\n",
    "                for est, d4 in d3.items():\n",
    "                    tt = d4[features]\n",
    "                    output[loss][\"train\"][lr][est][i] = tt[\"train\"]\n",
    "                    output[loss][\"test\"][lr][est][i] = tt[\"test\"]\n",
    "        i += 1\n",
    "    \n",
    "    for loss, d1 in output.items():\n",
    "        for tt, d2 in d1.items():\n",
    "            for lr, d3 in d2.items():\n",
    "                for est in d3:\n",
    "                    avg[loss][tt][lr].append(np.mean([output[loss][tt][lr][est][j]\n",
    "                                                           for j in range(n_splits)], axis=0))\n",
    "                    std = np.std([output[loss][tt][lr][est][j]\n",
    "                                                           for j in range(n_splits)], axis=0)\n",
    "                    interval[loss][tt][lr].append(std*0.95/n_splits)\n",
    "    \n",
    "    return avg, interval"
   ]
  },
  {
   "cell_type": "code",
   "execution_count": null,
   "metadata": {},
   "outputs": [],
   "source": [
    "def plot_GB_cv(data_dict,depth,features):\n",
    "    avg, interval = get_avg_std_GB(data_dict,depth,features)\n",
    "\n",
    "    losses=['deviance', 'exponential']  # exponential == AdaBoost\n",
    "#    learn_rates=[0.01, 0.1, 0.3, 0.5, 1]\n",
    "    n_estimators=[10, 50, 100, 200, 300]\n",
    "#    max_depths=[5, 10, 25]\n",
    "#    max_features=[.25, 0.5, 0.75, 1]\n",
    "\n",
    "    # plot performance\n",
    "    plt.figure()\n",
    "    fig, axs = plt.subplots(1, 2, figsize=(10, 2), squeeze=False)\n",
    "    for i in range(len(losses)):\n",
    "        c = losses[i]\n",
    "        print(c)\n",
    "        print(interval[c][\"test\"])\n",
    "        ds.multiple_line_chart(n_estimators, avg[c][\"test\"], ax=axs[0, i],\n",
    "                               title='Gradient Boosting for Heart with {} loss (mean)'.format(c),\n",
    "                               xlabel='estimators', ylabel='test accuracy',\n",
    "                               percentage=True)\n",
    "    plt.show()\n",
    "    \n",
    "    # plot overfitting\n",
    "    plt.figure()\n",
    "    fig, axs = plt.subplots(1, 2, figsize=(10, 2), squeeze=False)\n",
    "    for i in range(len(losses)):\n",
    "        c = losses[i]\n",
    "        print(c)\n",
    "        print(interval[c][\"train\"])\n",
    "        ds.multiple_line_chart(n_estimators, avg[c][\"train\"], ax=axs[0, i],\n",
    "                               title='Gradient Boosting for Heart with {} loss (mean)'.format(c),\n",
    "                               xlabel='estimators', ylabel='train accuracy',\n",
    "                               percentage=True)\n",
    "    plt.show()"
   ]
  }
 ],
 "metadata": {
  "kernelspec": {
   "display_name": "Python 3",
   "language": "python",
   "name": "python3"
  },
  "language_info": {
   "codemirror_mode": {
    "name": "ipython",
    "version": 3
   },
   "file_extension": ".py",
   "mimetype": "text/x-python",
   "name": "python",
   "nbconvert_exporter": "python",
   "pygments_lexer": "ipython3",
   "version": "3.8.5"
  },
  "toc": {
   "base_numbering": 1,
   "nav_menu": {},
   "number_sections": false,
   "sideBar": false,
   "skip_h1_title": false,
   "title_cell": "Contents",
   "title_sidebar": "Contents",
   "toc_cell": false,
   "toc_position": {},
   "toc_section_display": true,
   "toc_window_display": false
  },
  "varInspector": {
   "cols": {
    "lenName": 16,
    "lenType": 16,
    "lenVar": 40
   },
   "kernels_config": {
    "python": {
     "delete_cmd_postfix": "",
     "delete_cmd_prefix": "del ",
     "library": "var_list.py",
     "varRefreshCmd": "print(var_dic_list())"
    },
    "r": {
     "delete_cmd_postfix": ") ",
     "delete_cmd_prefix": "rm(",
     "library": "var_list.r",
     "varRefreshCmd": "cat(var_dic_list()) "
    }
   },
   "types_to_exclude": [
    "module",
    "function",
    "builtin_function_or_method",
    "instance",
    "_Feature"
   ],
   "window_display": false
  }
 },
 "nbformat": 4,
 "nbformat_minor": 4
}
