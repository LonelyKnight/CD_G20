{
 "cells": [
  {
   "cell_type": "markdown",
   "metadata": {},
   "source": [
    "# got tired of restarting the kernel so I'm doing these here"
   ]
  },
  {
   "cell_type": "code",
   "execution_count": 1,
   "metadata": {
    "ExecuteTime": {
     "end_time": "2020-12-04T19:56:27.304915Z",
     "start_time": "2020-12-04T19:56:25.352127Z"
    }
   },
   "outputs": [],
   "source": [
    "import numpy as np\n",
    "import pandas as pd\n",
    "import matplotlib.pyplot as plt\n",
    "from sklearn.model_selection import train_test_split, StratifiedKFold\n",
    "import sklearn.metrics as metrics\n",
    "from sklearn.tree import DecisionTreeClassifier\n",
    "import ds_functions as ds\n",
    "from sklearn.tree import export_graphviz\n",
    "import pydot\n",
    "import g20_functions as g20"
   ]
  },
  {
   "cell_type": "code",
   "execution_count": 1,
   "metadata": {},
   "outputs": [],
   "source": [
    "def get_values_GB(data_dict):\n",
    "    # criteria in diff graphs\n",
    "    # get min as series, accuracy as y and depth as x\n",
    "    output = {}\n",
    "    for criteria, d1 in data_dict.items():\n",
    "        output[criteria] = {}\n",
    "        output[criteria][\"train\"] = {}\n",
    "        output[criteria][\"test\"] = {}\n",
    "        for d, d2 in d1.items():\n",
    "            for imp, tt in d2.items():\n",
    "                if imp not in output[criteria][\"train\"]:\n",
    "                    output[criteria][\"train\"][imp] = []\n",
    "                if imp not in output[criteria][\"test\"]:\n",
    "                    output[criteria][\"test\"][imp] = []\n",
    "                output[criteria][\"train\"][imp].append(tt[\"train\"])\n",
    "                output[criteria][\"test\"][imp].append(tt[\"test\"])\n",
    "    return output"
   ]
  },
  {
   "cell_type": "code",
   "execution_count": 2,
   "metadata": {},
   "outputs": [],
   "source": [
    "def plot_GB_ho(data_dict):\n",
    "    output = get_values_DT(data_dict)\n",
    "        \n",
    "    # losses=['deviance', 'exponential'],  # exponential == AdaBoost\n",
    "    # criterion='friedman_mse',  # friedman_mse, mae\n",
    "    # learn_rates=[0.01, 0.1, 0.3, 0.5, 1],\n",
    "    # n_estimators=[10, 50, 100, 200, 300],\n",
    "    # max_depths=[5, 10, 25]\n",
    "    # max_features=[.25, 0.5, 0.75, 1])\n",
    "    \n",
    "    # plot performance\n",
    "    plt.figure()\n",
    "    fig, axs = plt.subplots(1, 2, figsize=(10, 2), squeeze=False)\n",
    "    for i in range(len(criteria)):\n",
    "        c = criteria[i]\n",
    "        ds.multiple_line_chart(max_depths, output[c][\"test\"], ax=axs[0, i],\n",
    "                               title='Gradient Boosting for Toxic with {} criteria'.format(c),\n",
    "                               xlabel='depth', ylabel='test accuracy',\n",
    "                               percentage=True)\n",
    "    plt.show()\n",
    "    \n",
    "    # plot overfitting\n",
    "    plt.figure()\n",
    "    fig, axs = plt.subplots(1, 2, figsize=(10, 2), squeeze=False)\n",
    "    for i in range(len(criteria)):\n",
    "        c = criteria[i]\n",
    "        ds.multiple_line_chart(max_depths, output[c][\"train\"], ax=axs[0, i],\n",
    "                               title='Gradient Boosting for Toxic with {} criteria'.format(c),\n",
    "                               xlabel='depth', ylabel='train accuracy',\n",
    "                               percentage=True)\n",
    "    plt.show()"
   ]
  },
  {
   "cell_type": "code",
   "execution_count": 4,
   "metadata": {},
   "outputs": [],
   "source": [
    "def get_avg_std_GB(folds):\n",
    "    # get min as series, accuracy as y and depth as x\n",
    "    output = {}\n",
    "    avg = {}\n",
    "    interval = {}\n",
    "    \n",
    "    n_splits = len(folds)\n",
    "    for criteria, d1 in folds[0].items():\n",
    "        avg[criteria] = {}\n",
    "        interval[criteria] = {}\n",
    "        output[criteria] = {}\n",
    "        avg[criteria][\"train\"] = {}\n",
    "        avg[criteria][\"test\"] = {}\n",
    "        interval[criteria][\"train\"] = {}\n",
    "        interval[criteria][\"test\"] = {}\n",
    "        output[criteria][\"train\"] = {}\n",
    "        output[criteria][\"test\"] = {}\n",
    "        for d, d2 in d1.items():\n",
    "            for imp, tt in d2.items():\n",
    "                output[criteria][\"train\"][imp] = {}\n",
    "                output[criteria][\"test\"][imp] = {}\n",
    "                interval[criteria][\"train\"][imp] = []\n",
    "                interval[criteria][\"test\"][imp] = []\n",
    "                avg[criteria][\"train\"][imp] = []\n",
    "                avg[criteria][\"test\"][imp] = []\n",
    "            break\n",
    "        for d, d2 in d1.items():\n",
    "            for imp, tt in d2.items():\n",
    "                output[criteria][\"train\"][imp][d] = np.empty(n_splits, dtype=dict)\n",
    "                output[criteria][\"test\"][imp][d] = np.empty(n_splits, dtype=dict)\n",
    "    i = 0\n",
    "    for data_dict in folds:\n",
    "        for criteria, d1 in data_dict.items():\n",
    "            for d, d2 in d1.items():\n",
    "                for imp, tt in d2.items():\n",
    "                    output[criteria][\"train\"][imp][d][i] = tt[\"train\"]\n",
    "                    output[criteria][\"test\"][imp][d][i] = tt[\"test\"]\n",
    "        i += 1\n",
    "    \n",
    "    for criteria, d1 in output.items():\n",
    "        for tt, d2 in d1.items():\n",
    "            for imp, d3 in d2.items():\n",
    "                for d in d3:\n",
    "                    avg[criteria][tt][imp].append(np.mean([output[criteria][tt][imp][d][j]\n",
    "                                                           for j in range(n_splits)], axis=0))\n",
    "                    std = np.std([output[criteria][tt][imp][d][j]\n",
    "                                                           for j in range(n_splits)], axis=0)\n",
    "                    interval[criteria][tt][imp].append(std*0.95/n_splits)\n",
    "    \n",
    "    return avg, interval"
   ]
  },
  {
   "cell_type": "code",
   "execution_count": null,
   "metadata": {},
   "outputs": [],
   "source": [
    "def plot_GB_cv(data_dict):\n",
    "    # max_depths = [2, 5, 10, 15, 20, 25]\n",
    "    avg, interval = get_avg_std_GB(data_dict)\n",
    "\n",
    "    # losses=['deviance', 'exponential'],  # exponential == AdaBoost\n",
    "    # criterion='friedman_mse',  # friedman_mse, mae\n",
    "    # learn_rates=[0.01, 0.1, 0.3, 0.5, 1],\n",
    "    # n_estimators=[10, 50, 100, 200, 300],\n",
    "    # max_depths=[5, 10, 25],\n",
    "    # max_features=[.25, 0.5, 0.75, 1]):\n",
    "    \n",
    "    # plot performance\n",
    "    plt.figure()\n",
    "    fig, axs = plt.subplots(1, 2, figsize=(10, 2), squeeze=False)\n",
    "    for i in range(len(criteria)):\n",
    "        c = criteria[i]\n",
    "        print(c)\n",
    "        print(interval[c][\"test\"])\n",
    "        ds.multiple_line_chart(max_depths, avg[c][\"test\"], ax=axs[0, i],\n",
    "                               title='Gradient Boosting for Heart with {} criteria (mean)'.format(c),\n",
    "                               xlabel='depth', ylabel='test accuracy',\n",
    "                               percentage=True)\n",
    "    plt.show()\n",
    "    \n",
    "    # plot overfitting\n",
    "    plt.figure()\n",
    "    fig, axs = plt.subplots(1, 2, figsize=(10, 2), squeeze=False)\n",
    "    for i in range(len(criteria)):\n",
    "        c = criteria[i]\n",
    "        print(c)\n",
    "        print(interval[c][\"train\"])\n",
    "        ds.multiple_line_chart(max_depths, avg[c][\"train\"], ax=axs[0, i],\n",
    "                               title='Gradient Boosting for Heart with {} criteria (mean)'.format(c),\n",
    "                               xlabel='depth', ylabel='train accuracy',\n",
    "                               percentage=True)\n",
    "    plt.show()"
   ]
  }
 ],
 "metadata": {
  "kernelspec": {
   "display_name": "Python 3",
   "language": "python",
   "name": "python3"
  },
  "language_info": {
   "codemirror_mode": {
    "name": "ipython",
    "version": 3
   },
   "file_extension": ".py",
   "mimetype": "text/x-python",
   "name": "python",
   "nbconvert_exporter": "python",
   "pygments_lexer": "ipython3",
   "version": "3.7.9"
  },
  "toc": {
   "base_numbering": 1,
   "nav_menu": {},
   "number_sections": false,
   "sideBar": false,
   "skip_h1_title": false,
   "title_cell": "Contents",
   "title_sidebar": "Contents",
   "toc_cell": false,
   "toc_position": {},
   "toc_section_display": true,
   "toc_window_display": false
  },
  "varInspector": {
   "cols": {
    "lenName": 16,
    "lenType": 16,
    "lenVar": 40
   },
   "kernels_config": {
    "python": {
     "delete_cmd_postfix": "",
     "delete_cmd_prefix": "del ",
     "library": "var_list.py",
     "varRefreshCmd": "print(var_dic_list())"
    },
    "r": {
     "delete_cmd_postfix": ") ",
     "delete_cmd_prefix": "rm(",
     "library": "var_list.r",
     "varRefreshCmd": "cat(var_dic_list()) "
    }
   },
   "types_to_exclude": [
    "module",
    "function",
    "builtin_function_or_method",
    "instance",
    "_Feature"
   ],
   "window_display": false
  }
 },
 "nbformat": 4,
 "nbformat_minor": 4
}
