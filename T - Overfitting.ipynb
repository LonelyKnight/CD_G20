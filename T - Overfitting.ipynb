{
 "cells": [
  {
   "cell_type": "code",
   "execution_count": 1,
   "metadata": {
    "ExecuteTime": {
     "end_time": "2020-11-19T07:48:16.825952Z",
     "start_time": "2020-11-19T07:48:14.665771Z"
    }
   },
   "outputs": [
    {
     "data": {
      "text/plain": [
       "(8992, 1025)"
      ]
     },
     "execution_count": 1,
     "metadata": {},
     "output_type": "execute_result"
    }
   ],
   "source": [
    "import numpy as np\n",
    "import pandas as pd\n",
    "import g20_functions as g20\n",
    "\n",
    "values = {'Original': g20.loadToxic()}\n",
    "np.shape(values['Original'])"
   ]
  },
  {
   "cell_type": "code",
   "execution_count": null,
   "metadata": {},
   "outputs": [],
   "source": [
    "from g20_Naive_Bayes import overfitting_hoNaiveBayes\n",
    "\n",
    "for k, v in values.items():\n",
    "    X, y, labels = g20.xySplit(v, target=1024)\n",
    "    overfitting_hoNaiveBayes(X, y, labels, \"Toxic_\"+k)"
   ]
  },
  {
   "cell_type": "code",
   "execution_count": null,
   "metadata": {},
   "outputs": [],
   "source": [
    "from g20_KNN import overfitting_hoKNN\n",
    "\n",
    "for k, v in values.items():\n",
    "    X, y, labels = g20.xySplit(v, target=1024)\n",
    "    overfitting_hoKNN(X, y, labels, \"Toxic_\"+k)"
   ]
  },
  {
   "cell_type": "code",
   "execution_count": null,
   "metadata": {},
   "outputs": [],
   "source": [
    "from g20_Decision_Trees import overfitting_hoDT\n",
    "\n",
    "for k, v in values.items():\n",
    "    X, y, labels = g20.xySplit(v, target=1024)\n",
    "    overfitting_hoDT(X, y, labels, \"Toxic_\"+k)"
   ]
  },
  {
   "cell_type": "code",
   "execution_count": null,
   "metadata": {},
   "outputs": [],
   "source": [
    "from g20_Random_Forests import overfitting_hoRF\n",
    "\n",
    "for k, v in values.items():\n",
    "    X, y, labels = g20.xySplit(v, target=1024)\n",
    "    overfitting_hoRF(X, y, labels, \"Toxic_\"+k)"
   ]
  },
  {
   "cell_type": "code",
   "execution_count": null,
   "metadata": {
    "ExecuteTime": {
     "start_time": "2020-11-19T07:48:42.797Z"
    },
    "scrolled": false
   },
   "outputs": [
    {
     "name": "stdout",
     "output_type": "stream",
     "text": [
      "-> Holdout for Toxic_Original:\n",
      "--- done: deviance, 5\n",
      "--- done: deviance, 10\n"
     ]
    }
   ],
   "source": [
    "from g20_Gradient_Boosting import overfitting_hoGB\n",
    "\n",
    "for k, v in values.items():\n",
    "    X, y, labels = g20.xySplit(v, target=1024)\n",
    "    overfitting_hoGB(X, y, labels, \"Toxic_\"+k)"
   ]
  }
 ],
 "metadata": {
  "kernelspec": {
   "display_name": "Python 3",
   "language": "python",
   "name": "python3"
  },
  "language_info": {
   "codemirror_mode": {
    "name": "ipython",
    "version": 3
   },
   "file_extension": ".py",
   "mimetype": "text/x-python",
   "name": "python",
   "nbconvert_exporter": "python",
   "pygments_lexer": "ipython3",
   "version": "3.7.9"
  },
  "toc": {
   "base_numbering": 1,
   "nav_menu": {},
   "number_sections": false,
   "sideBar": false,
   "skip_h1_title": false,
   "title_cell": "Contents",
   "title_sidebar": "Contents",
   "toc_cell": false,
   "toc_position": {},
   "toc_section_display": true,
   "toc_window_display": false
  },
  "varInspector": {
   "cols": {
    "lenName": 16,
    "lenType": 16,
    "lenVar": 40
   },
   "kernels_config": {
    "python": {
     "delete_cmd_postfix": "",
     "delete_cmd_prefix": "del ",
     "library": "var_list.py",
     "varRefreshCmd": "print(var_dic_list())"
    },
    "r": {
     "delete_cmd_postfix": ") ",
     "delete_cmd_prefix": "rm(",
     "library": "var_list.r",
     "varRefreshCmd": "cat(var_dic_list()) "
    }
   },
   "types_to_exclude": [
    "module",
    "function",
    "builtin_function_or_method",
    "instance",
    "_Feature"
   ],
   "window_display": false
  }
 },
 "nbformat": 4,
 "nbformat_minor": 4
}
