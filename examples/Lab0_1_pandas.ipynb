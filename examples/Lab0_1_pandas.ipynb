{
 "cells": [
  {
   "cell_type": "markdown",
   "metadata": {},
   "source": [
    "<div class=\"text_cell_render border-box-sizing rendered_html\">\n",
    "<h1 align=\"center\" style=\"font-family:Arial;color:#6c6c6c;font-size:30px;\">Python basics for data science</h1><p>In this chapter, we cover the essentials for dealing with data.</p>\n",
    "<p>First, we succinctly describe the main data structures to deal with data in Python and pandas, and after this we present\n",
    "some basic methods for plotting the most common charts to explore data. Usually, the <code>pandas</code> package is\n",
    "imported as <code>pd</code>.</p>\n",
    "</div>\n",
    "<div class=\"cell border-box-sizing text_cell rendered\"><div class=\"inner_cell\">\n",
    "<div class=\"text_cell_render border-box-sizing rendered_html\">\n",
    "<h2 id=\"loading\" style=\"font-family:Arial;color:#6c6c6c;font-size:25px;\">Loading data with <code>pandas</code></h2><h3 style=\"font-family:Arial;color:#6c6c6c;font-size:20px;\">read_csv</h3><p><code><a href=\"https://pandas.pydata.org/pandas-docs/stable/reference/api/pandas.read_csv.html\">read_csv</a></code>\n",
    "is one the most useful methods to import data from external files, creating a <code>Dataframe</code> object to store the\n",
    "data.\n",
    "Beside the requirement of specifying the datafile name, the method may be parametrized to deal with different\n",
    "formats and contents.</p>\n",
    "<p>Among the several optional parameters, the following ones are often required:</p>\n",
    "<table align=\"left\" noborder>\n",
    "    <tr><td><p text-align:\"left\"><code><b>sep : str</b> (default : ',')</code></td></tr>\n",
    "    <tr><td><p text-align:\"left\">the character used as delimiter columns in the datafile</td></tr>\n",
    "    <tr><td><p text-align:\"left\"><code><b>index_col : str / int</b> (default : None)</code></td></tr>\n",
    "    <tr><td><p text-align:\"left\">a column name (or its index) which corresponds to a primary key for the data</td></tr>\n",
    "    <tr><td><p text-align:\"left\"><code><b>decimal : str</b> (default : '.')</code></td></tr>\n",
    "    <tr><td><p text-align:\"left\">the character used as decimal point in the datafile</td></tr>\n",
    "    <tr><td><p text-align:\"left\"><code><b>thousands : str</b> (default : '.')</code></td></tr>\n",
    "    <tr><td><p text-align:\"left\">the character used as thousand separator in the datafile</td> </tr>\n",
    "</table>\n",
    "</div>\n",
    "</div>\n",
    "</div>\n",
    "<div class=\"cell border-box-sizing text_cell rendered\"><div class=\"inner_cell\">\n",
    "<div class=\"text_cell_render border-box-sizing rendered_html\">\n",
    "<p>For dealing with timestamped variables, the following ones are of particular importance:</p>\n",
    "<table align=\"left\" width=\"100%\" noborder>\n",
    "    <tr><td><p text-align:\"left\"><code><b>parse_dates : bool or list of int or names or list of lists or dict</b> (default : False)</code></td></tr>\n",
    "    <tr><td><p text-align:\"left\">if True, the index column will be parsed as a date, otherwise the indexes referenced will be used according\n",
    "        to a set of specific rules</td></tr>\n",
    "    <tr><td><p text-align:\"left\"><code><b>infer_datetime_format : bool</b> (default : False)</code></td></tr>\n",
    "    <tr><td><p text-align:\"left\">if True and parse_dates is enabled, the engine will look for the best parser to read dates</td></tr>\n",
    "</table><p>See <a href=\"https://pandas.pydata.org/pandas-docs/stable/reference/api/pandas.read_csv.html\">read_csv</a> documentation\n",
    "for the complete list of parameters and details.</p>\n",
    "<p>Below, you can see the invocation of the read_csv method to load the data in the file algae.csv (available in <em>__</em>).</p>\n"
   ]
  },
  {
   "cell_type": "code",
   "execution_count": 1,
   "metadata": {},
   "outputs": [
    {
     "data": {
      "text/html": [
       "<div>\n",
       "<style scoped>\n",
       "    .dataframe tbody tr th:only-of-type {\n",
       "        vertical-align: middle;\n",
       "    }\n",
       "\n",
       "    .dataframe tbody tr th {\n",
       "        vertical-align: top;\n",
       "    }\n",
       "\n",
       "    .dataframe thead th {\n",
       "        text-align: right;\n",
       "    }\n",
       "</style>\n",
       "<table border=\"1\" class=\"dataframe\">\n",
       "  <thead>\n",
       "    <tr style=\"text-align: right;\">\n",
       "      <th></th>\n",
       "      <th>pH</th>\n",
       "      <th>Oxygen</th>\n",
       "      <th>Chloride</th>\n",
       "      <th>Nitrates</th>\n",
       "      <th>Ammonium</th>\n",
       "      <th>Orthophosphate</th>\n",
       "      <th>Phosphate</th>\n",
       "      <th>Chlorophyll</th>\n",
       "      <th>fluid_velocity</th>\n",
       "      <th>river_depth</th>\n",
       "      <th>season</th>\n",
       "    </tr>\n",
       "    <tr>\n",
       "      <th>date</th>\n",
       "      <th></th>\n",
       "      <th></th>\n",
       "      <th></th>\n",
       "      <th></th>\n",
       "      <th></th>\n",
       "      <th></th>\n",
       "      <th></th>\n",
       "      <th></th>\n",
       "      <th></th>\n",
       "      <th></th>\n",
       "      <th></th>\n",
       "    </tr>\n",
       "  </thead>\n",
       "  <tbody>\n",
       "    <tr>\n",
       "      <th>2018-09-30</th>\n",
       "      <td>8.10</td>\n",
       "      <td>11.4</td>\n",
       "      <td>40.02</td>\n",
       "      <td>5.33</td>\n",
       "      <td>346.67</td>\n",
       "      <td>125.67</td>\n",
       "      <td>187.06</td>\n",
       "      <td>15.60</td>\n",
       "      <td>medium</td>\n",
       "      <td>low</td>\n",
       "      <td>autumn</td>\n",
       "    </tr>\n",
       "    <tr>\n",
       "      <th>2018-10-05</th>\n",
       "      <td>8.06</td>\n",
       "      <td>9.0</td>\n",
       "      <td>55.35</td>\n",
       "      <td>10.42</td>\n",
       "      <td>233.70</td>\n",
       "      <td>58.22</td>\n",
       "      <td>97.58</td>\n",
       "      <td>10.50</td>\n",
       "      <td>medium</td>\n",
       "      <td>low</td>\n",
       "      <td>autumn</td>\n",
       "    </tr>\n",
       "    <tr>\n",
       "      <th>2018-10-07</th>\n",
       "      <td>8.05</td>\n",
       "      <td>10.6</td>\n",
       "      <td>59.07</td>\n",
       "      <td>4.99</td>\n",
       "      <td>205.67</td>\n",
       "      <td>44.67</td>\n",
       "      <td>77.43</td>\n",
       "      <td>6.90</td>\n",
       "      <td>high</td>\n",
       "      <td>low</td>\n",
       "      <td>autumn</td>\n",
       "    </tr>\n",
       "    <tr>\n",
       "      <th>2018-10-09</th>\n",
       "      <td>7.55</td>\n",
       "      <td>11.5</td>\n",
       "      <td>4.70</td>\n",
       "      <td>1.32</td>\n",
       "      <td>14.75</td>\n",
       "      <td>4.25</td>\n",
       "      <td>98.25</td>\n",
       "      <td>1.10</td>\n",
       "      <td>high</td>\n",
       "      <td>low</td>\n",
       "      <td>autumn</td>\n",
       "    </tr>\n",
       "    <tr>\n",
       "      <th>2018-10-11</th>\n",
       "      <td>7.75</td>\n",
       "      <td>10.3</td>\n",
       "      <td>32.92</td>\n",
       "      <td>2.94</td>\n",
       "      <td>42.00</td>\n",
       "      <td>16.00</td>\n",
       "      <td>40.00</td>\n",
       "      <td>7.60</td>\n",
       "      <td>high</td>\n",
       "      <td>low</td>\n",
       "      <td>autumn</td>\n",
       "    </tr>\n",
       "    <tr>\n",
       "      <th>...</th>\n",
       "      <td>...</td>\n",
       "      <td>...</td>\n",
       "      <td>...</td>\n",
       "      <td>...</td>\n",
       "      <td>...</td>\n",
       "      <td>...</td>\n",
       "      <td>...</td>\n",
       "      <td>...</td>\n",
       "      <td>...</td>\n",
       "      <td>...</td>\n",
       "      <td>...</td>\n",
       "    </tr>\n",
       "    <tr>\n",
       "      <th>2019-09-09</th>\n",
       "      <td>8.30</td>\n",
       "      <td>10.0</td>\n",
       "      <td>3.86</td>\n",
       "      <td>0.87</td>\n",
       "      <td>32.00</td>\n",
       "      <td>6.00</td>\n",
       "      <td>16.00</td>\n",
       "      <td>2.86</td>\n",
       "      <td>medium</td>\n",
       "      <td>high</td>\n",
       "      <td>summer</td>\n",
       "    </tr>\n",
       "    <tr>\n",
       "      <th>2019-09-11</th>\n",
       "      <td>8.10</td>\n",
       "      <td>10.2</td>\n",
       "      <td>7.61</td>\n",
       "      <td>0.70</td>\n",
       "      <td>32.50</td>\n",
       "      <td>26.63</td>\n",
       "      <td>52.88</td>\n",
       "      <td>2.00</td>\n",
       "      <td>high</td>\n",
       "      <td>high</td>\n",
       "      <td>summer</td>\n",
       "    </tr>\n",
       "    <tr>\n",
       "      <th>2019-09-13</th>\n",
       "      <td>8.40</td>\n",
       "      <td>8.2</td>\n",
       "      <td>23.25</td>\n",
       "      <td>2.81</td>\n",
       "      <td>43.75</td>\n",
       "      <td>51.13</td>\n",
       "      <td>87.13</td>\n",
       "      <td>14.78</td>\n",
       "      <td>low</td>\n",
       "      <td>high</td>\n",
       "      <td>summer</td>\n",
       "    </tr>\n",
       "    <tr>\n",
       "      <th>2019-09-15</th>\n",
       "      <td>8.50</td>\n",
       "      <td>7.9</td>\n",
       "      <td>12.44</td>\n",
       "      <td>2.59</td>\n",
       "      <td>96.67</td>\n",
       "      <td>19.11</td>\n",
       "      <td>61.44</td>\n",
       "      <td>6.17</td>\n",
       "      <td>medium</td>\n",
       "      <td>high</td>\n",
       "      <td>summer</td>\n",
       "    </tr>\n",
       "    <tr>\n",
       "      <th>2019-09-17</th>\n",
       "      <td>8.50</td>\n",
       "      <td>6.7</td>\n",
       "      <td>82.85</td>\n",
       "      <td>2.80</td>\n",
       "      <td>27.07</td>\n",
       "      <td>64.00</td>\n",
       "      <td>140.52</td>\n",
       "      <td>18.30</td>\n",
       "      <td>medium</td>\n",
       "      <td>high</td>\n",
       "      <td>summer</td>\n",
       "    </tr>\n",
       "  </tbody>\n",
       "</table>\n",
       "<p>200 rows × 11 columns</p>\n",
       "</div>"
      ],
      "text/plain": [
       "              pH  Oxygen  Chloride  Nitrates  Ammonium  Orthophosphate  \\\n",
       "date                                                                     \n",
       "2018-09-30  8.10    11.4     40.02      5.33    346.67          125.67   \n",
       "2018-10-05  8.06     9.0     55.35     10.42    233.70           58.22   \n",
       "2018-10-07  8.05    10.6     59.07      4.99    205.67           44.67   \n",
       "2018-10-09  7.55    11.5      4.70      1.32     14.75            4.25   \n",
       "2018-10-11  7.75    10.3     32.92      2.94     42.00           16.00   \n",
       "...          ...     ...       ...       ...       ...             ...   \n",
       "2019-09-09  8.30    10.0      3.86      0.87     32.00            6.00   \n",
       "2019-09-11  8.10    10.2      7.61      0.70     32.50           26.63   \n",
       "2019-09-13  8.40     8.2     23.25      2.81     43.75           51.13   \n",
       "2019-09-15  8.50     7.9     12.44      2.59     96.67           19.11   \n",
       "2019-09-17  8.50     6.7     82.85      2.80     27.07           64.00   \n",
       "\n",
       "            Phosphate  Chlorophyll fluid_velocity river_depth  season  \n",
       "date                                                                   \n",
       "2018-09-30     187.06        15.60         medium         low  autumn  \n",
       "2018-10-05      97.58        10.50         medium         low  autumn  \n",
       "2018-10-07      77.43         6.90           high         low  autumn  \n",
       "2018-10-09      98.25         1.10           high         low  autumn  \n",
       "2018-10-11      40.00         7.60           high         low  autumn  \n",
       "...               ...          ...            ...         ...     ...  \n",
       "2019-09-09      16.00         2.86         medium        high  summer  \n",
       "2019-09-11      52.88         2.00           high        high  summer  \n",
       "2019-09-13      87.13        14.78            low        high  summer  \n",
       "2019-09-15      61.44         6.17         medium        high  summer  \n",
       "2019-09-17     140.52        18.30         medium        high  summer  \n",
       "\n",
       "[200 rows x 11 columns]"
      ]
     },
     "execution_count": 1,
     "metadata": {},
     "output_type": "execute_result"
    }
   ],
   "source": [
    "import pandas as pd\n",
    "from pandas.plotting import register_matplotlib_converters\n",
    "\n",
    "register_matplotlib_converters()\n",
    "data = pd.read_csv('data/algae.csv', index_col='date', sep=',', decimal='.', parse_dates=True, infer_datetime_format=True)\n",
    "data"
   ]
  },
  {
   "cell_type": "markdown",
   "metadata": {},
   "source": [
    "<div class=\"cell border-box-sizing text_cell rendered\"><div class=\"inner_cell\">\n",
    "<div class=\"text_cell_render border-box-sizing rendered_html\">\n",
    "<h3 style=\"font-family:Arial;color:#6c6c6c;font-size:20px;\">Series</h3><p>Before introducing dataframes, we need to understand a basic concept from pandas.\n",
    "<code>Series</code> is the pandas representation for unidimensional arrays, aiming for storing columns from a data table.\n",
    "Indeed, beside a Series contains an array to store the data elements, it keeps another array with labels to refer\n",
    "to each element - which is called the <code>index</code>.\n",
    "We can see a Series as a Python dictionary (<code>dict</code>) object, as illustrated in the figure below.</p>\n",
    "<p><img src=\"images/series_illustration.png\" ></p>\n",
    "\n",
    "</div>\n",
    "</div>\n",
    "</div>\n",
    "<div class=\"cell border-box-sizing text_cell rendered\"><div class=\"inner_cell\">\n",
    "<div class=\"text_cell_render border-box-sizing rendered_html\">\n",
    "<p>Suppose, we have a series read from the dataset above called col, that corresponds to the pH values recorded in the\n",
    "dataset. Lets look at the basic methods to deal with this structure.</p>\n",
    "\n",
    "</div>\n",
    "</div>\n",
    "</div>"
   ]
  },
  {
   "cell_type": "code",
   "execution_count": 2,
   "metadata": {},
   "outputs": [
    {
     "data": {
      "text/plain": [
       "date\n",
       "2018-09-30    8.10\n",
       "2018-10-05    8.06\n",
       "2018-10-07    8.05\n",
       "2018-10-09    7.55\n",
       "2018-10-11    7.75\n",
       "              ... \n",
       "2019-09-09    8.30\n",
       "2019-09-11    8.10\n",
       "2019-09-13    8.40\n",
       "2019-09-15    8.50\n",
       "2019-09-17    8.50\n",
       "Name: pH, Length: 200, dtype: float64"
      ]
     },
     "execution_count": 2,
     "metadata": {},
     "output_type": "execute_result"
    }
   ],
   "source": [
    "col = data['pH']\n",
    "col"
   ]
  },
  {
   "cell_type": "markdown",
   "metadata": {},
   "source": [
    "<div class=\"cell border-box-sizing text_cell rendered\"><div class=\"inner_cell\">\n",
    "<div class=\"text_cell_render border-box-sizing rendered_html\">\n",
    "<p>As you can see, the series contains 200 elements (Length), with each one corresponding to a real number (<code>float64</code>).\n",
    "Additionally, each element is indexed by its date.</p>\n",
    "<p>In order to get the number of elements, we can use the <code>len</code> method:</p>\n",
    "\n",
    "</div>\n",
    "</div>\n",
    "</div>"
   ]
  },
  {
   "cell_type": "code",
   "execution_count": 3,
   "metadata": {},
   "outputs": [
    {
     "data": {
      "text/plain": [
       "200"
      ]
     },
     "execution_count": 3,
     "metadata": {},
     "output_type": "execute_result"
    }
   ],
   "source": [
    "len(col)"
   ]
  },
  {
   "cell_type": "markdown",
   "metadata": {},
   "source": [
    "<div class=\"cell border-box-sizing text_cell rendered\"><div class=\"inner_cell\">\n",
    "<div class=\"text_cell_render border-box-sizing rendered_html\">\n",
    "<p>Like in Python, we can select a single element on an array through a numeric index as usual, but we can also use one of\n",
    "the values in the data index, a date in our example. Beside that we can select a subset of the values, in a similar way:\n",
    "(Note the difference of behavior on selecting through an interval: with python usual system the end limit is not included,\n",
    "but when based on the defined index it will be included).</p>\n",
    "\n",
    "</div>\n",
    "</div>\n",
    "</div>"
   ]
  },
  {
   "cell_type": "code",
   "execution_count": 4,
   "metadata": {},
   "outputs": [
    {
     "name": "stdout",
     "output_type": "stream",
     "text": [
      "8.5\n",
      "8.5\n",
      "date\n",
      "2018-09-30    8.10\n",
      "2018-10-05    8.06\n",
      "2018-10-07    8.05\n",
      "2018-10-09    7.55\n",
      "Name: pH, dtype: float64\n",
      "date\n",
      "2018-09-30    8.10\n",
      "2018-10-05    8.06\n",
      "2018-10-07    8.05\n",
      "2018-10-09    7.55\n",
      "Name: pH, dtype: float64\n"
     ]
    }
   ],
   "source": [
    "print(col[-1])\n",
    "print(col['2019-09-17'])\n",
    "print(col[:4])\n",
    "print(col[:'2018-10-09'])"
   ]
  },
  {
   "cell_type": "markdown",
   "metadata": {},
   "source": [
    "<div class=\"cell border-box-sizing text_cell rendered\"><div class=\"inner_cell\">\n",
    "<div class=\"text_cell_render border-box-sizing rendered_html\">\n",
    "<h3 style=\"font-family:Arial;color:#6c6c6c;font-size:20px;\">DataFrame</h3><p>The <code>DataFrame</code> is the main data structure to represent a multivariate dataset. It corresponds to a table,\n",
    "where columns represent attributes (also known as variables) and rows keep the different records (also known as instances).\n",
    "The major advantage of pandas dataframes is its ability to access any element on the dataset, referenced either by row or\n",
    "column, both through their index number and name.</p>\n",
    "<p>Indeed, the DataFrame is even more powerful, since its indexes may be more than a simple attribute, but a set of\n",
    "attributes, hierarchically organized (as in hierarchies of attributes in each dimension in a Data Warehouse). In this\n",
    "manner, DataFrames are able to represent pivot tables.</p>\n",
    "<p>Like in Series, DataFrames can be seen as an indexed table, but doubly indexed by two dictionaries: one indexing the\n",
    "records in the rows (as for Series) and another one for indexing the columns, as illustrated in the figure below.</p>\n",
    "<p><img src=\"images/dataframe_illustration.png\"></p>\n",
    "<p>Dataframe <code>head</code> and <code>tail</code> methods provide an insight about the data itself, and return the first\n",
    "and last n records in the dataset, respectively (showing 5 whenever n is not given). Jointly, they give the means to\n",
    "inspect if the loading process occurred without problems.</p>\n",
    "\n",
    "</div>\n",
    "</div>\n",
    "</div>"
   ]
  },
  {
   "cell_type": "code",
   "execution_count": 5,
   "metadata": {},
   "outputs": [
    {
     "data": {
      "text/html": [
       "<div>\n",
       "<style scoped>\n",
       "    .dataframe tbody tr th:only-of-type {\n",
       "        vertical-align: middle;\n",
       "    }\n",
       "\n",
       "    .dataframe tbody tr th {\n",
       "        vertical-align: top;\n",
       "    }\n",
       "\n",
       "    .dataframe thead th {\n",
       "        text-align: right;\n",
       "    }\n",
       "</style>\n",
       "<table border=\"1\" class=\"dataframe\">\n",
       "  <thead>\n",
       "    <tr style=\"text-align: right;\">\n",
       "      <th></th>\n",
       "      <th>pH</th>\n",
       "      <th>Oxygen</th>\n",
       "      <th>Chloride</th>\n",
       "      <th>Nitrates</th>\n",
       "      <th>Ammonium</th>\n",
       "      <th>Orthophosphate</th>\n",
       "      <th>Phosphate</th>\n",
       "      <th>Chlorophyll</th>\n",
       "      <th>fluid_velocity</th>\n",
       "      <th>river_depth</th>\n",
       "      <th>season</th>\n",
       "    </tr>\n",
       "    <tr>\n",
       "      <th>date</th>\n",
       "      <th></th>\n",
       "      <th></th>\n",
       "      <th></th>\n",
       "      <th></th>\n",
       "      <th></th>\n",
       "      <th></th>\n",
       "      <th></th>\n",
       "      <th></th>\n",
       "      <th></th>\n",
       "      <th></th>\n",
       "      <th></th>\n",
       "    </tr>\n",
       "  </thead>\n",
       "  <tbody>\n",
       "    <tr>\n",
       "      <th>2018-09-30</th>\n",
       "      <td>8.10</td>\n",
       "      <td>11.4</td>\n",
       "      <td>40.02</td>\n",
       "      <td>5.33</td>\n",
       "      <td>346.67</td>\n",
       "      <td>125.67</td>\n",
       "      <td>187.06</td>\n",
       "      <td>15.6</td>\n",
       "      <td>medium</td>\n",
       "      <td>low</td>\n",
       "      <td>autumn</td>\n",
       "    </tr>\n",
       "    <tr>\n",
       "      <th>2018-10-05</th>\n",
       "      <td>8.06</td>\n",
       "      <td>9.0</td>\n",
       "      <td>55.35</td>\n",
       "      <td>10.42</td>\n",
       "      <td>233.70</td>\n",
       "      <td>58.22</td>\n",
       "      <td>97.58</td>\n",
       "      <td>10.5</td>\n",
       "      <td>medium</td>\n",
       "      <td>low</td>\n",
       "      <td>autumn</td>\n",
       "    </tr>\n",
       "    <tr>\n",
       "      <th>2018-10-07</th>\n",
       "      <td>8.05</td>\n",
       "      <td>10.6</td>\n",
       "      <td>59.07</td>\n",
       "      <td>4.99</td>\n",
       "      <td>205.67</td>\n",
       "      <td>44.67</td>\n",
       "      <td>77.43</td>\n",
       "      <td>6.9</td>\n",
       "      <td>high</td>\n",
       "      <td>low</td>\n",
       "      <td>autumn</td>\n",
       "    </tr>\n",
       "    <tr>\n",
       "      <th>2018-10-09</th>\n",
       "      <td>7.55</td>\n",
       "      <td>11.5</td>\n",
       "      <td>4.70</td>\n",
       "      <td>1.32</td>\n",
       "      <td>14.75</td>\n",
       "      <td>4.25</td>\n",
       "      <td>98.25</td>\n",
       "      <td>1.1</td>\n",
       "      <td>high</td>\n",
       "      <td>low</td>\n",
       "      <td>autumn</td>\n",
       "    </tr>\n",
       "    <tr>\n",
       "      <th>2018-10-11</th>\n",
       "      <td>7.75</td>\n",
       "      <td>10.3</td>\n",
       "      <td>32.92</td>\n",
       "      <td>2.94</td>\n",
       "      <td>42.00</td>\n",
       "      <td>16.00</td>\n",
       "      <td>40.00</td>\n",
       "      <td>7.6</td>\n",
       "      <td>high</td>\n",
       "      <td>low</td>\n",
       "      <td>autumn</td>\n",
       "    </tr>\n",
       "  </tbody>\n",
       "</table>\n",
       "</div>"
      ],
      "text/plain": [
       "              pH  Oxygen  Chloride  Nitrates  Ammonium  Orthophosphate  \\\n",
       "date                                                                     \n",
       "2018-09-30  8.10    11.4     40.02      5.33    346.67          125.67   \n",
       "2018-10-05  8.06     9.0     55.35     10.42    233.70           58.22   \n",
       "2018-10-07  8.05    10.6     59.07      4.99    205.67           44.67   \n",
       "2018-10-09  7.55    11.5      4.70      1.32     14.75            4.25   \n",
       "2018-10-11  7.75    10.3     32.92      2.94     42.00           16.00   \n",
       "\n",
       "            Phosphate  Chlorophyll fluid_velocity river_depth  season  \n",
       "date                                                                   \n",
       "2018-09-30     187.06         15.6         medium         low  autumn  \n",
       "2018-10-05      97.58         10.5         medium         low  autumn  \n",
       "2018-10-07      77.43          6.9           high         low  autumn  \n",
       "2018-10-09      98.25          1.1           high         low  autumn  \n",
       "2018-10-11      40.00          7.6           high         low  autumn  "
      ]
     },
     "execution_count": 5,
     "metadata": {},
     "output_type": "execute_result"
    }
   ],
   "source": [
    "data.head()"
   ]
  },
  {
   "cell_type": "markdown",
   "metadata": {},
   "source": [
    "<div class=\"cell border-box-sizing text_cell rendered\"><div class=\"inner_cell\">\n",
    "<div class=\"text_cell_render border-box-sizing rendered_html\">\n",
    "<p>In order to see the number of variables, you can use the property <code>columns</code>. Note that <code>ndim</code> does\n",
    "not correspond to the expected number, because it corresponds to the number of dimensions in a dataframe, where each\n",
    "column does not correspond to a different dimension.</p>\n",
    "\n",
    "</div>\n",
    "</div>\n",
    "</div>"
   ]
  },
  {
   "cell_type": "code",
   "execution_count": 6,
   "metadata": {},
   "outputs": [
    {
     "data": {
      "text/plain": [
       "Index(['pH', 'Oxygen', 'Chloride', 'Nitrates', 'Ammonium', 'Orthophosphate',\n",
       "       'Phosphate', 'Chlorophyll', 'fluid_velocity', 'river_depth', 'season'],\n",
       "      dtype='object')"
      ]
     },
     "execution_count": 6,
     "metadata": {},
     "output_type": "execute_result"
    }
   ],
   "source": [
    "data.columns"
   ]
  },
  {
   "cell_type": "markdown",
   "metadata": {},
   "source": [
    "<div class=\"cell border-box-sizing text_cell rendered\"><div class=\"inner_cell\">\n",
    "<div class=\"text_cell_render border-box-sizing rendered_html\">\n",
    "<p>In order to inspect the number of records (rows) in your data, you can apply the <code>len</code> function over the\n",
    "dataframe. Again, note that <code>size</code> doesn't return the same value.</p>\n",
    "\n",
    "</div>\n",
    "</div>\n",
    "</div>"
   ]
  },
  {
   "cell_type": "code",
   "execution_count": 7,
   "metadata": {},
   "outputs": [
    {
     "data": {
      "text/plain": [
       "200"
      ]
     },
     "execution_count": 7,
     "metadata": {},
     "output_type": "execute_result"
    }
   ],
   "source": [
    "len(data)"
   ]
  },
  {
   "cell_type": "markdown",
   "metadata": {},
   "source": [
    "<div class=\"cell border-box-sizing text_cell rendered\"><div class=\"inner_cell\">\n",
    "<div class=\"text_cell_render border-box-sizing rendered_html\">\n",
    "<p>Another way to inspect the dataset size, we can use the <code>shape</code> method, which returns the number of records\n",
    "and the number of variables, on the first and second position of the tuple, respectively.</p>\n",
    "\n",
    "</div>\n",
    "</div>\n",
    "</div>"
   ]
  },
  {
   "cell_type": "code",
   "execution_count": 8,
   "metadata": {},
   "outputs": [
    {
     "data": {
      "text/plain": [
       "(200, 11)"
      ]
     },
     "execution_count": 8,
     "metadata": {},
     "output_type": "execute_result"
    }
   ],
   "source": [
    "data.shape"
   ]
  },
  {
   "cell_type": "markdown",
   "metadata": {},
   "source": [
    "<div class=\"cell border-box-sizing text_cell rendered\"><div class=\"inner_cell\">\n",
    "<div class=\"text_cell_render border-box-sizing rendered_html\">\n",
    "<p>Despite its complex implementation, dataframes allow direct access to any element in the table, through a set of\n",
    "predefined properties and methods.\n",
    "Like any other complex structure in Python, and Series in particular, it allows the access of any column or set of\n",
    "columns through the <code>[ ]</code> operator.</p>\n",
    "\n",
    "</div>\n",
    "</div>\n",
    "</div>"
   ]
  },
  {
   "cell_type": "code",
   "execution_count": 9,
   "metadata": {},
   "outputs": [
    {
     "data": {
      "text/plain": [
       "date\n",
       "2018-09-30    8.10\n",
       "2018-10-05    8.06\n",
       "2018-10-07    8.05\n",
       "2018-10-09    7.55\n",
       "2018-10-11    7.75\n",
       "              ... \n",
       "2019-09-09    8.30\n",
       "2019-09-11    8.10\n",
       "2019-09-13    8.40\n",
       "2019-09-15    8.50\n",
       "2019-09-17    8.50\n",
       "Name: pH, Length: 200, dtype: float64"
      ]
     },
     "execution_count": 9,
     "metadata": {},
     "output_type": "execute_result"
    }
   ],
   "source": [
    "data['pH']"
   ]
  },
  {
   "cell_type": "markdown",
   "metadata": {},
   "source": [
    "<div class=\"cell border-box-sizing text_cell rendered\"><div class=\"inner_cell\">\n",
    "<div class=\"text_cell_render border-box-sizing rendered_html\">\n",
    "<p>but we need to use the <code>loc</code> property for accessing rows through labels or <code>loc</code> to make the\n",
    "access through traditional numeric indexes.</p>\n",
    "\n",
    "</div>\n",
    "</div>\n",
    "</div>"
   ]
  },
  {
   "cell_type": "code",
   "execution_count": 10,
   "metadata": {},
   "outputs": [
    {
     "data": {
      "text/plain": [
       "pH                   8.1\n",
       "Oxygen              11.4\n",
       "Chloride           40.02\n",
       "Nitrates            5.33\n",
       "Ammonium          346.67\n",
       "Orthophosphate    125.67\n",
       "Phosphate         187.06\n",
       "Chlorophyll         15.6\n",
       "fluid_velocity    medium\n",
       "river_depth          low\n",
       "season            autumn\n",
       "Name: 2018-09-30 00:00:00, dtype: object"
      ]
     },
     "execution_count": 10,
     "metadata": {},
     "output_type": "execute_result"
    }
   ],
   "source": [
    "data.loc['2018-09-30']"
   ]
  },
  {
   "cell_type": "markdown",
   "metadata": {},
   "source": [
    "<div class=\"cell border-box-sizing text_cell rendered\"><div class=\"inner_cell\">\n",
    "<div class=\"text_cell_render border-box-sizing rendered_html\">\n",
    "<p>The access to a single cell in the table can be made through the <code>at</code> property, when using labels as indexes\n",
    "and the <code>iat</code> property, when using numbers as usual to index arrays in other languages.</p>\n",
    "\n",
    "</div>\n",
    "</div>\n",
    "</div>"
   ]
  },
  {
   "cell_type": "code",
   "execution_count": 11,
   "metadata": {},
   "outputs": [
    {
     "data": {
      "text/plain": [
       "8.1"
      ]
     },
     "execution_count": 11,
     "metadata": {},
     "output_type": "execute_result"
    }
   ],
   "source": [
    "data.at['2018-09-30','pH']"
   ]
  },
  {
   "cell_type": "markdown",
   "metadata": {},
   "source": [
    "<div class=\"cell border-box-sizing text_cell rendered\"><div class=\"inner_cell\">\n",
    "<div class=\"text_cell_render border-box-sizing rendered_html\">\n",
    "<p>Another very useful selection property is <code>values</code>, which returns the data table as a <code>numpy.narray</code>\n",
    "(the basic structure used in <code>scikit learn</code> package).</p>\n",
    "\n",
    "</div>\n",
    "</div>\n",
    "</div>"
   ]
  },
  {
   "cell_type": "code",
   "execution_count": 12,
   "metadata": {},
   "outputs": [
    {
     "data": {
      "text/plain": [
       "array([[8.1, 11.4, 40.02, ..., 'medium', 'low', 'autumn'],\n",
       "       [8.06, 9.0, 55.35, ..., 'medium', 'low', 'autumn'],\n",
       "       [8.05, 10.6, 59.07, ..., 'high', 'low', 'autumn'],\n",
       "       ...,\n",
       "       [8.4, 8.2, 23.25, ..., 'low', 'high', 'summer'],\n",
       "       [8.5, 7.9, 12.44, ..., 'medium', 'high', 'summer'],\n",
       "       [8.5, 6.7, 82.85, ..., 'medium', 'high', 'summer']], dtype=object)"
      ]
     },
     "execution_count": 12,
     "metadata": {},
     "output_type": "execute_result"
    }
   ],
   "source": [
    "data.values"
   ]
  },
  {
   "cell_type": "markdown",
   "metadata": {},
   "source": [
    "<div class=\"cell border-box-sizing text_cell rendered\"><div class=\"inner_cell\">\n",
    "<div class=\"text_cell_render border-box-sizing rendered_html\">\n",
    "<p>Beside the properties summarized above, the DataFrame class also encompasses a large number of methods to make it\n",
    "easier to deal with data tables.</p>\n",
    "<p>Among more then one hundred methods, we want to highlight some of them that can be categorized as follows:</p>\n",
    "\n",
    "</div>\n",
    "</div>\n",
    "</div>\n",
    "<div class=\"cell border-box-sizing text_cell rendered\"><div class=\"inner_cell\">\n",
    "<div class=\"text_cell_render border-box-sizing rendered_html\">\n",
    "<table align=\"left\" noborder>\n",
    "    <tr><th><p text-align:\"center\">Selection of DataFrame Methods</th></tr>\n",
    "    <tr><th><p text-align:\"center\">DataFrame Modifiers</th></tr>\n",
    "    <tr><td><p text-align:\"left\"><code><b>append</b></code></td></tr>\n",
    "    <tr><td><p text-align:\"left\">creates a copy of the dataframe, appending rows from another one</td></tr>\n",
    "    <tr><td><p text-align:\"left\"><code><b>drop</b></code></td></tr>\n",
    "    <tr><td><p text-align:\"left\">changes the dataframe, by removing a given column or row, or sets of them</td></tr>\n",
    "    <tr><td><p text-align:\"left\"><code><b>insert</b></code></td></tr>\n",
    "    <tr><td><p text-align:\"left\">changes the dataframe, by inserting a given column at a specific position</td></tr>\n",
    "    <tr><td><p text-align:\"left\"><code><b>pop</b></code></td></tr>\n",
    "    <tr><td><p text-align:\"left\">returns a column or row, and removes it from the dataframe</td></tr>\n",
    "    <tr><td></td></tr>\n",
    "    <tr><th><p text-align:\"center\">Operators</th></tr>\n",
    "    <tr><td><p text-align:\"left\"><code><b>corr/cov</b></code></td></tr>\n",
    "    <tr><td><p text-align:\"left\">creates a new dataframe, whose values correspond to the correlation/covariance matrix of the\n",
    "        original data</td></tr>\n",
    "    <tr><td><p text-align:\"left\"><code><b>mean/std/mode/min/max</b></code></td></tr>\n",
    "    <tr><td><p text-align:\"left\">returns the mean/standard deviation/mode/minimum/maximum value for the given column or row</td></tr>\n",
    "    <tr><td><p text-align:\"left\"><code><b>add/div/mul/sub</b></code></td></tr>\n",
    "    <tr><td><p text-align:\"left\">computes the addition/division/product/subtraction between two dataframes, creating a new one</td></tr>\n",
    "    <tr><td><p text-align:\"left\"><code><b>eq/ne/ge/gt/le/lt</b></code></td></tr>\n",
    "    <tr><td><p text-align:\"left\">computes a new dataframe with boolean values, reflecting if the values in the original data\n",
    "        satisfy the given condition</td></tr>\n",
    "    <tr><td><p text-align:\"left\"><code><b>nlargest/nsmallest</b></code></td></tr>\n",
    "    <tr><td><p text-align:\"left\">returns the n rows with the largest/smallest value for the given column (similar to top/bottom\n",
    "        in OLAP queries</td></tr>\n",
    "</table>\n",
    "</div>\n",
    "</div>\n",
    "</div>"
   ]
  },
  {
   "cell_type": "code",
   "execution_count": null,
   "metadata": {},
   "outputs": [],
   "source": []
  }
 ],
 "metadata": {
  "kernelspec": {
   "display_name": "Python 3",
   "language": "python",
   "name": "python3"
  },
  "language_info": {
   "codemirror_mode": {
    "name": "ipython",
    "version": 3
   },
   "file_extension": ".py",
   "mimetype": "text/x-python",
   "name": "python",
   "nbconvert_exporter": "python",
   "pygments_lexer": "ipython3",
   "version": "3.8.5"
  }
 },
 "nbformat": 4,
 "nbformat_minor": 4
}
