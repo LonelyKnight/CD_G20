{
 "cells": [
  {
   "cell_type": "code",
   "execution_count": 1,
   "metadata": {
    "ExecuteTime": {
     "end_time": "2020-11-19T07:48:20.816902Z",
     "start_time": "2020-11-19T07:48:19.482606Z"
    }
   },
   "outputs": [
    {
     "data": {
      "text/plain": [
       "(299, 12)"
      ]
     },
     "execution_count": 1,
     "metadata": {},
     "output_type": "execute_result"
    }
   ],
   "source": [
    "import numpy as np\n",
    "import pandas as pd\n",
    "import g20_functions as g20\n",
    "\n",
    "values = g20.scaleData(g20.loadHeart())\n",
    "np.shape(values['Original'])"
   ]
  },
  {
   "cell_type": "code",
   "execution_count": null,
   "metadata": {},
   "outputs": [],
   "source": [
    "from g20_Naive_Bayes import overfitting_cvNaiveBayes\n",
    "\n",
    "for k, v in values.items():\n",
    "    X, y, labels = g20.xySplit(v, target='DEATH_EVENT')\n",
    "    overfitting_cvNaiveBayes(X, y, labels, \"Heart_\"+k)"
   ]
  },
  {
   "cell_type": "code",
   "execution_count": null,
   "metadata": {},
   "outputs": [],
   "source": [
    "from g20_KNN import overfitting_cvKNN\n",
    "\n",
    "for k, v in values.items():\n",
    "    X, y, labels = g20.xySplit(v, target='DEATH_EVENT')\n",
    "    overfitting_cvKNN(X, y, labels, \"Heart_\"+k)"
   ]
  },
  {
   "cell_type": "code",
   "execution_count": null,
   "metadata": {},
   "outputs": [],
   "source": [
    "from g20_Decision_Trees import overfitting_cvDT\n",
    "\n",
    "for k, v in values.items():\n",
    "    X, y, labels = g20.xySplit(v, target='DEATH_EVENT')\n",
    "    overfitting_cvDT(X, y, labels, \"Heart_\"+k)"
   ]
  },
  {
   "cell_type": "code",
   "execution_count": null,
   "metadata": {},
   "outputs": [],
   "source": [
    "from g20_Random_Forests import overfitting_cvRF\n",
    "\n",
    "for k, v in values.items():\n",
    "    X, y, labels = g20.xySplit(v, target='DEATH_EVENT')\n",
    "    overfitting_cvRF(X, y, labels, \"Heart_\"+k)"
   ]
  },
  {
   "cell_type": "code",
   "execution_count": null,
   "metadata": {
    "ExecuteTime": {
     "start_time": "2020-11-19T07:48:28.631Z"
    },
    "scrolled": false
   },
   "outputs": [
    {
     "name": "stdout",
     "output_type": "stream",
     "text": [
      "\n",
      "-> 5-fold CrossVal for Heart_Original:\n",
      "-> Fold 0 for Heart_Original:\n",
      "--- done: deviance, 5\n",
      "--- done: deviance, 10\n",
      "--- done: deviance, 25\n",
      "-> Fold 1 for Heart_Original:\n",
      "--- done: deviance, 5\n",
      "--- done: deviance, 10\n",
      "--- done: deviance, 25\n",
      "-> Fold 2 for Heart_Original:\n",
      "--- done: deviance, 5\n",
      "--- done: deviance, 10\n",
      "--- done: deviance, 25\n",
      "-> Fold 3 for Heart_Original:\n",
      "--- done: deviance, 5\n",
      "--- done: deviance, 10\n"
     ]
    }
   ],
   "source": [
    "from g20_Gradient_Boosting import overfitting_cvGB\n",
    "\n",
    "for k, v in values.items():\n",
    "    X, y, labels = g20.xySplit(v, target='DEATH_EVENT')\n",
    "    overfitting_cvGB(X, y, labels, \"Heart_\"+k)"
   ]
  }
 ],
 "metadata": {
  "kernelspec": {
   "display_name": "Python 3",
   "language": "python",
   "name": "python3"
  },
  "language_info": {
   "codemirror_mode": {
    "name": "ipython",
    "version": 3
   },
   "file_extension": ".py",
   "mimetype": "text/x-python",
   "name": "python",
   "nbconvert_exporter": "python",
   "pygments_lexer": "ipython3",
   "version": "3.7.9"
  },
  "toc": {
   "base_numbering": 1,
   "nav_menu": {},
   "number_sections": false,
   "sideBar": false,
   "skip_h1_title": false,
   "title_cell": "Contents",
   "title_sidebar": "Contents",
   "toc_cell": false,
   "toc_position": {},
   "toc_section_display": true,
   "toc_window_display": false
  },
  "varInspector": {
   "cols": {
    "lenName": 16,
    "lenType": 16,
    "lenVar": 40
   },
   "kernels_config": {
    "python": {
     "delete_cmd_postfix": "",
     "delete_cmd_prefix": "del ",
     "library": "var_list.py",
     "varRefreshCmd": "print(var_dic_list())"
    },
    "r": {
     "delete_cmd_postfix": ") ",
     "delete_cmd_prefix": "rm(",
     "library": "var_list.r",
     "varRefreshCmd": "cat(var_dic_list()) "
    }
   },
   "types_to_exclude": [
    "module",
    "function",
    "builtin_function_or_method",
    "instance",
    "_Feature"
   ],
   "window_display": false
  }
 },
 "nbformat": 4,
 "nbformat_minor": 4
}
