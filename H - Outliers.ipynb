{
 "cells": [
  {
   "cell_type": "code",
   "execution_count": null,
   "metadata": {
    "scrolled": true
   },
   "outputs": [],
   "source": [
    "import g20_functions as g20\n",
    "\n",
    "values = g20.outlierRemovalData(g20.loadHeart(), dataset='Heart')"
   ]
  },
  {
   "cell_type": "code",
   "execution_count": null,
   "metadata": {
    "scrolled": true
   },
   "outputs": [],
   "source": [
    "from g20_KNN import crossValKNN\n",
    "import numpy as np\n",
    "import pandas as pd\n",
    "for k,v in values.items():\n",
    "    X,y,labels = g20.xySplit(v,target='DEATH_EVENT')\n",
    "    crossValKNN(X,y,labels,\"Heart_\"+k)\n"
   ]
  },
  {
   "cell_type": "code",
   "execution_count": null,
   "metadata": {
    "scrolled": true
   },
   "outputs": [],
   "source": [
    "from g20_Naive_Bayes import crossValNaiveBayes\n",
    "for k,v in values.items():\n",
    "    X,y,labels = g20.xySplit(v,target='DEATH_EVENT')\n",
    "    crossValNaiveBayes(X,y,labels,\"Heart_\"+k)"
   ]
  },
  {
   "cell_type": "code",
   "execution_count": null,
   "metadata": {
    "scrolled": true
   },
   "outputs": [],
   "source": [
    "from g20_Decision_Trees import crossValDT\n",
    "for k,v in values.items():\n",
    "    X,y,labels = g20.xySplit(v,target='DEATH_EVENT')\n",
    "    crossValDT(X,y,labels,\"Heart_\"+k)"
   ]
  },
  {
   "cell_type": "code",
   "execution_count": null,
   "metadata": {
    "scrolled": true
   },
   "outputs": [],
   "source": [
    "from g20_Random_Forests import crossValRF\n",
    "for k,v in values.items():\n",
    "    X,y,labels = g20.xySplit(v,target='DEATH_EVENT')\n",
    "    crossValRF(X,y,labels,\"Heart_\"+k)"
   ]
  },
  {
   "cell_type": "code",
   "execution_count": null,
   "metadata": {
    "scrolled": false
   },
   "outputs": [],
   "source": [
    "from g20_Gradient_Boosting import crossValGB\n",
    "for k, v in values.items():\n",
    "    X, y, labels = g20.xySplit(v, target='DEATH_EVENT')\n",
    "    crossValGB(X, y, labels, \"Heart_\"+k)"
   ]
  },
  {
   "cell_type": "code",
   "execution_count": null,
   "metadata": {},
   "outputs": [],
   "source": []
  }
 ],
 "metadata": {
  "kernelspec": {
   "display_name": "Python 3",
   "language": "python",
   "name": "python3"
  },
  "language_info": {
   "codemirror_mode": {
    "name": "ipython",
    "version": 3
   },
   "file_extension": ".py",
   "mimetype": "text/x-python",
   "name": "python",
   "nbconvert_exporter": "python",
   "pygments_lexer": "ipython3",
   "version": "3.8.5"
  }
 },
 "nbformat": 4,
 "nbformat_minor": 4
}
