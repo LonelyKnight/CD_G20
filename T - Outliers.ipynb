{
 "cells": [
  {
   "cell_type": "code",
   "execution_count": null,
   "metadata": {
    "ExecuteTime": {
     "end_time": "2020-11-12T04:15:20.430337Z",
     "start_time": "2020-11-12T04:15:16.902134Z"
    },
    "scrolled": true
   },
   "outputs": [
    {
     "name": "stdout",
     "output_type": "stream",
     "text": [
      "(8902, 1024)\n",
      "(8902, 1)\n",
      "(8812, 1024)\n",
      "(8812, 1)\n",
      "(8722, 1024)\n",
      "(8722, 1)\n",
      "(8632, 1024)\n",
      "(8632, 1)\n",
      "(8542, 1024)\n",
      "(8542, 1)\n",
      "(8452, 1024)\n",
      "(8452, 1)\n",
      "(8362, 1024)\n",
      "(8362, 1)\n",
      "(8272, 1024)\n",
      "(8272, 1)\n",
      "(8183, 1024)\n",
      "(8183, 1)\n",
      "(8092, 1024)\n",
      "(8092, 1)\n",
      "(8902, 1024)\n",
      "(8902, 1)\n",
      "(8812, 1024)\n",
      "(8812, 1)\n",
      "(8722, 1024)\n",
      "(8722, 1)\n",
      "(8632, 1024)\n",
      "(8632, 1)\n",
      "(8542, 1024)\n",
      "(8542, 1)\n",
      "(8452, 1024)\n",
      "(8452, 1)\n",
      "(8362, 1024)\n",
      "(8362, 1)\n",
      "(8272, 1024)\n",
      "(8272, 1)\n",
      "(8182, 1024)\n",
      "(8182, 1)\n",
      "(8092, 1024)\n",
      "(8092, 1)\n"
     ]
    }
   ],
   "source": [
    "import numpy as np\n",
    "import pandas as pd\n",
    "import g20_functions as g20\n",
    "\n",
    "values = g20.outlierRemovalData(g20.loadToxic(), dataset='Toxic')"
   ]
  },
  {
   "cell_type": "code",
   "execution_count": null,
   "metadata": {},
   "outputs": [],
   "source": [
    "import g20_KNN\n",
    "for k, v in values.items():\n",
    "    X, y, labels = g20.xySplit(v, target=1024)\n",
    "    g20_KNN.holdoutKNN(X, y, labels, \"Toxic_\"+k)"
   ]
  },
  {
   "cell_type": "code",
   "execution_count": null,
   "metadata": {
    "scrolled": true
   },
   "outputs": [],
   "source": [
    "from g20_Naive_Bayes import holdoutNaiveBayes\n",
    "for k, v in values.items():\n",
    "    X, y, labels = g20.xySplit(v, target=1024)\n",
    "    holdoutNaiveBayes(X, y, labels, \"Toxic_\"+k)"
   ]
  },
  {
   "cell_type": "code",
   "execution_count": null,
   "metadata": {
    "scrolled": true
   },
   "outputs": [],
   "source": [
    "from g20_Decision_Trees import holdoutDT\n",
    "for k, v in values.items():\n",
    "    X, y, labels = g20.xySplit(v, target=1024)\n",
    "    holdoutDT(X, y, labels, \"Toxic_\"+k)"
   ]
  },
  {
   "cell_type": "code",
   "execution_count": null,
   "metadata": {},
   "outputs": [],
   "source": [
    "from g20_Random_Forests import crossValRF\n",
    "for k, v in values.items():\n",
    "    X, y, labels = g20.xySplit(v, target=1024)\n",
    "    crossValRF(X, y, labels, \"Toxic_\"+k)"
   ]
  },
  {
   "cell_type": "code",
   "execution_count": null,
   "metadata": {
    "ExecuteTime": {
     "end_time": "2020-11-12T11:52:58.641093Z",
     "start_time": "2020-11-12T04:18:40.601852Z"
    }
   },
   "outputs": [],
   "source": [
    "from g20_Gradient_Boosting import holdoutGB\n",
    "for k, v in values.items():\n",
    "    X, y, labels = g20.xySplit(v, target=1024)\n",
    "    holdoutGB(X, y, labels, \"Toxic_\"+k,\n",
    "              learn_rates=[0.01, 0.1, 0.5],\n",
    "              n_estimators = [100, 200, 300],\n",
    "              max_depths=[5, 10, 25], max_features=[.5, 1])"
   ]
  }
 ],
 "metadata": {
  "kernelspec": {
   "display_name": "Python 3",
   "language": "python",
   "name": "python3"
  },
  "language_info": {
   "codemirror_mode": {
    "name": "ipython",
    "version": 3
   },
   "file_extension": ".py",
   "mimetype": "text/x-python",
   "name": "python",
   "nbconvert_exporter": "python",
   "pygments_lexer": "ipython3",
   "version": "3.8.5"
  },
  "toc": {
   "base_numbering": 1,
   "nav_menu": {},
   "number_sections": false,
   "sideBar": false,
   "skip_h1_title": false,
   "title_cell": "Contents",
   "title_sidebar": "Contents",
   "toc_cell": false,
   "toc_position": {},
   "toc_section_display": true,
   "toc_window_display": false
  },
  "varInspector": {
   "cols": {
    "lenName": 16,
    "lenType": 16,
    "lenVar": 40
   },
   "kernels_config": {
    "python": {
     "delete_cmd_postfix": "",
     "delete_cmd_prefix": "del ",
     "library": "var_list.py",
     "varRefreshCmd": "print(var_dic_list())"
    },
    "r": {
     "delete_cmd_postfix": ") ",
     "delete_cmd_prefix": "rm(",
     "library": "var_list.r",
     "varRefreshCmd": "cat(var_dic_list()) "
    }
   },
   "types_to_exclude": [
    "module",
    "function",
    "builtin_function_or_method",
    "instance",
    "_Feature"
   ],
   "window_display": false
  }
 },
 "nbformat": 4,
 "nbformat_minor": 4
}
