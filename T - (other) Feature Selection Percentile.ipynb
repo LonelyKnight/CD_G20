{
 "cells": [
  {
   "cell_type": "code",
   "execution_count": 1,
   "metadata": {
    "scrolled": true
   },
   "outputs": [
    {
     "name": "stdout",
     "output_type": "stream",
     "text": [
      "\n",
      "SelectPercentile (3%) - Number of features: 31\n",
      "\n",
      "SelectPercentile (5%) - Number of features: 52\n",
      "\n",
      "SelectPercentile (7%) - Number of features: 72\n",
      "\n",
      "SelectPercentile (10%) - Number of features: 103\n",
      "\n",
      "SelectPercentile (15%) - Number of features: 154\n",
      "\n",
      "SelectPercentile (20%) - Number of features: 205\n"
     ]
    }
   ],
   "source": [
    "import g20_functions as g20\n",
    "\n",
    "\n",
    "values = g20.fs_percentile(g20.loadToxic(),dataset=\"Toxic\")"
   ]
  },
  {
   "cell_type": "code",
   "execution_count": null,
   "metadata": {
    "scrolled": true
   },
   "outputs": [],
   "source": [
    "from g20_KNN import holdoutKNN\n",
    "import numpy as np\n",
    "import pandas as pd\n",
    "for k,v in values.items():\n",
    "    X,y,labels = g20.xySplit(v,target=1024)\n",
    "    holdoutKNN(X,y,labels,\"Toxic_\"+k)\n"
   ]
  },
  {
   "cell_type": "code",
   "execution_count": null,
   "metadata": {
    "scrolled": true
   },
   "outputs": [],
   "source": [
    "from g20_Naive_Bayes import holdoutNaiveBayes\n",
    "for k,v in values.items():\n",
    "    X,y,labels = g20.xySplit(v,target=1024)\n",
    "    holdoutNaiveBayes(X,y,labels,\"Toxic_\"+k)"
   ]
  },
  {
   "cell_type": "code",
   "execution_count": null,
   "metadata": {
    "scrolled": true
   },
   "outputs": [],
   "source": [
    "from g20_Decision_Trees import holdoutDT\n",
    "for k,v in values.items():\n",
    "    X,y,labels = g20.xySplit(v,target=1024)\n",
    "    holdoutDT(X,y,labels,\"Toxic_\"+k)"
   ]
  },
  {
   "cell_type": "code",
   "execution_count": null,
   "metadata": {
    "scrolled": true
   },
   "outputs": [],
   "source": [
    "from g20_Random_Forests import holdoutRF\n",
    "for k,v in values.items():\n",
    "    X,y,labels = g20.xySplit(v,target=1024)\n",
    "    holdoutRF(X,y,labels,\"Toxic_\"+k)"
   ]
  },
  {
   "cell_type": "code",
   "execution_count": null,
   "metadata": {
    "scrolled": true
   },
   "outputs": [],
   "source": [
    "from g20_Gradient_Boosting import holdoutGB\n",
    "for k, v in values.items():\n",
    "    X,y,labels = g20.xySplit(v,target=1024)\n",
    "    holdoutGB(X, y, labels, \"Toxic_\"+k)"
   ]
  },
  {
   "cell_type": "code",
   "execution_count": null,
   "metadata": {},
   "outputs": [],
   "source": []
  }
 ],
 "metadata": {
  "kernelspec": {
   "display_name": "Python 3",
   "language": "python",
   "name": "python3"
  },
  "language_info": {
   "codemirror_mode": {
    "name": "ipython",
    "version": 3
   },
   "file_extension": ".py",
   "mimetype": "text/x-python",
   "name": "python",
   "nbconvert_exporter": "python",
   "pygments_lexer": "ipython3",
   "version": "3.8.5"
  }
 },
 "nbformat": 4,
 "nbformat_minor": 4
}
