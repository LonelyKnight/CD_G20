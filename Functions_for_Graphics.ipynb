{
 "cells": [
  {
   "cell_type": "markdown",
   "metadata": {},
   "source": [
    "# got tired of restarting the kernel so I'm doing these here"
   ]
  },
  {
   "cell_type": "code",
   "execution_count": 3,
   "metadata": {},
   "outputs": [],
   "source": [
    "import numpy as np\n",
    "import pandas as pd\n",
    "import matplotlib.pyplot as plt\n",
    "from sklearn.model_selection import train_test_split, StratifiedKFold\n",
    "import sklearn.metrics as metrics\n",
    "from sklearn.tree import DecisionTreeClassifier\n",
    "import ds_functions as ds\n",
    "from sklearn.tree import export_graphviz\n",
    "import pydot\n",
    "import g20_functions as g20"
   ]
  },
  {
   "cell_type": "code",
   "execution_count": 1,
   "metadata": {},
   "outputs": [],
   "source": [
    "def get_values_DT(data_dict):\n",
    "    # get min as series, accuracy as y and depth as x\n",
    "    output = {}\n",
    "    X = []\n",
    "    for criteria, d1 in data_dict.items():\n",
    "        X = []\n",
    "        output[criteria] = {}\n",
    "        output[criteria][\"train\"] = {}\n",
    "        output[criteria][\"test\"] = {}\n",
    "        for d, d2 in d1.items():\n",
    "            X.append(d)\n",
    "            for imp, tt in d2.items():\n",
    "                if imp not in output[criteria][\"train\"]:\n",
    "                    output[criteria][\"train\"][imp] = []\n",
    "                if imp not in output[criteria][\"test\"]:\n",
    "                    output[criteria][\"test\"][imp] = []\n",
    "                output[criteria][\"train\"][imp].append(tt[\"train\"])\n",
    "                output[criteria][\"test\"][imp].append(tt[\"test\"])\n",
    "    return X, output"
   ]
  },
  {
   "cell_type": "code",
   "execution_count": 2,
   "metadata": {},
   "outputs": [],
   "source": [
    "def plot_DT_ho(data_dict):\n",
    "    X,output = get_values_DT(data_dict)\n",
    "    \n",
    "    min_impurity_decrease = [0.025, 0.01, 0.005, 0.0025, 0.001]\n",
    "    max_depths = [2, 5, 10, 15, 20, 25]\n",
    "    criteria = ['entropy', 'gini']\n",
    "    \n",
    "    # plot performance\n",
    "    plt.figure()\n",
    "    fig, axs = plt.subplots(1, 2, figsize=(10, 2), squeeze=False)\n",
    "    for i in range(len(criteria)):\n",
    "        c = criteria[i]\n",
    "        ds.multiple_line_chart(X, output[c][\"test\"], ax=axs[0, i],\n",
    "                               title='Decision Trees for Toxic with {} criteria'.format(c),\n",
    "                               xlabel='depth', ylabel='accuracy',\n",
    "                               percentage=True)\n",
    "    plt.show()\n",
    "    \n",
    "    # plot overfitting\n",
    "    plt.figure()\n",
    "    fig, axs = plt.subplots(1, 2, figsize=(10, 2), squeeze=False)\n",
    "    for i in range(len(criteria)):\n",
    "        c = criteria[i]\n",
    "        ds.multiple_line_chart(X, output[c][\"train\"], ax=axs[0, i],\n",
    "                               title='Decision Trees for Toxic with {} criteria'.format(c),\n",
    "                               xlabel='depth', ylabel='accuracy',\n",
    "                               percentage=True)\n",
    "    plt.show()"
   ]
  },
  {
   "cell_type": "code",
   "execution_count": null,
   "metadata": {},
   "outputs": [],
   "source": []
  }
 ],
 "metadata": {
  "kernelspec": {
   "display_name": "Python 3",
   "language": "python",
   "name": "python3"
  },
  "language_info": {
   "codemirror_mode": {
    "name": "ipython",
    "version": 3
   },
   "file_extension": ".py",
   "mimetype": "text/x-python",
   "name": "python",
   "nbconvert_exporter": "python",
   "pygments_lexer": "ipython3",
   "version": "3.8.5"
  }
 },
 "nbformat": 4,
 "nbformat_minor": 4
}
